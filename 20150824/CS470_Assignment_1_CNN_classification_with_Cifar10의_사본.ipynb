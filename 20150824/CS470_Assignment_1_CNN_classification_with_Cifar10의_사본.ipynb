{
  "nbformat": 4,
  "nbformat_minor": 0,
  "metadata": {
    "colab": {
      "name": "CS470 Assignment #1: CNN classification with Cifar10의 사본",
      "provenance": [],
      "collapsed_sections": [],
      "toc_visible": true
    },
    "kernelspec": {
      "name": "python3",
      "display_name": "Python 3"
    },
    "accelerator": "GPU"
  },
  "cells": [
    {
      "cell_type": "markdown",
      "metadata": {
        "id": "PRqPMAzzNipD",
        "colab_type": "text"
      },
      "source": [
        "CS470 Assignment #1: CNN classification with Cifar10\n",
        "====\n",
        "\n",
        "Primary TA : Myeongjae Jang\n",
        "\n",
        "TA's E-mail : myeongjae0409@kaist.ac.kr\n",
        "\n",
        "## Instruction\n",
        "\n",
        "- Modify the baseline CNN model to improve the classification performance on Cifar10 dataset. In addition to the model definition, you can modify any parts of this colab example to improve the test accuracy (e.g., learning rate, batch size, etc.)\n",
        "- Train your CNN model and compare it to the baseline (in terms of training loss and the test accuracy).\n",
        "- Explain your modifications and discuss how you improved the test accuracy.\n",
        "\n",
        "## Submission guidelines\n",
        "\n",
        "- Your code and report will be all in Colab. Copy this example to your google drive and edit it to complete your assignment. Add sections at the bottom of this example to discuss the results. For discussion and analysis, we highly encourage you to use graphics if possible (e.g., plots, images, etc.). \n",
        "- To make grading efficient, please highlight all contributions & modifications you made clearly. We highly encourage you to add code blocks in the discussion section to discuss your modifications (e.g., you can describe the model definition in the discussion section using the code blocks).\n",
        "- We should be able to reproduce your results using your code and pre-trained model. Please double-check if your code runs without error and loads your pre-trained model properly. Submissions failed to run or reproduce the results will get a substantial penalty. \n",
        "- In this assignment, **we are not allowing fine-tuning from the pre-trained model** (e.g. ImageNet pre-trained models). You should train your  model on Cifar10 dataset from scratch. \n",
        "\n",
        "## Deliverables\n",
        "- Download your Colab notebook and the pre-trained model, and submit a zip file in a format: [StudentID].zip. Please double-check that you locate and load your pre-trained model properly.\n",
        "- Your assignment should be submitted through KLMS. All other submissions (e.g., via email) will not be considered as valid submissions. \n",
        "\n",
        "## Grading policy\n",
        "\n",
        "- **Code** (50%): Your code should work and outperform the baseline model in terms of the test accuracy. \n",
        "- **Report** (50%): Explain your modification and justify how it improved the perofrmance. It would be great if you have some supporting results for your justification (e.g., justifying that you resolved the overfitting by comparing two training/testing loss curves). \n",
        "- **Extra points** will be given if your submission satisfies the following:\n",
        " - **High test accuracy**: we will rank the submissions based on the test accuracy, and assign extra points according to the rank (e.g. 3 points for top 10%, 2 points for top 30%, 1 points for top 50%.)\n",
        " - **Comprehensive discussion**: we will assign extra points if your report contains comprehensive discussion/analysis of the results. Examples include justification of your choice of model (or hyper-parameters), comparisons to the baseline model (analysis on the source of improvement), insightful visualizations (loss curves, misclassification results), etc.\n",
        "\n",
        "## Due date\n",
        "- **23:59:59 September 25th.**\n",
        "- Late submission is allowed until 23:59:59 September 27th.\n",
        "- Late submission will be applied 20% penalty.\n",
        "\n",
        "## Questions\n",
        "- Please use QnA board in KLMS as a main communication channel. When you post questions, please make it public so that all students can share the information. Please use the prefix \"[Assignment 1]\" in the subject for all questions regarding this assignment (e.g., [Assignment 1] Regarding the grading policy).\n",
        "\n",
        "## PyTorch Documentation\n",
        "- You can refer PyTorch documentation for your assignment.\n",
        "- https://pytorch.org/docs/stable/index.html\n",
        "\n"
      ]
    },
    {
      "cell_type": "markdown",
      "metadata": {
        "id": "RO1mgGV_uOIK",
        "colab_type": "text"
      },
      "source": [
        "## Step 1: Connect to your Google Drive\n",
        "\n",
        "It is required if you want to save checkpoints and load them later on.\n",
        "\n",
        "### (You have to submit your trained results as the checkpoint. So, please check your Google Drive connection again.)"
      ]
    },
    {
      "cell_type": "code",
      "metadata": {
        "id": "cLth6ZfXuSGT",
        "colab_type": "code",
        "outputId": "295f44d1-ac8f-401c-a820-75e7d062af7c",
        "colab": {
          "base_uri": "https://localhost:8080/",
          "height": 122
        }
      },
      "source": [
        "from google.colab import drive\n",
        "\n",
        "drive.mount('/gdrive')\n",
        "gdrive_root = '/gdrive/My Drive'"
      ],
      "execution_count": 1,
      "outputs": [
        {
          "output_type": "stream",
          "text": [
            "Go to this URL in a browser: https://accounts.google.com/o/oauth2/auth?client_id=947318989803-6bn6qk8qdgf4n4g3pfee6491hc0brc4i.apps.googleusercontent.com&redirect_uri=urn%3Aietf%3Awg%3Aoauth%3A2.0%3Aoob&scope=email%20https%3A%2F%2Fwww.googleapis.com%2Fauth%2Fdocs.test%20https%3A%2F%2Fwww.googleapis.com%2Fauth%2Fdrive%20https%3A%2F%2Fwww.googleapis.com%2Fauth%2Fdrive.photos.readonly%20https%3A%2F%2Fwww.googleapis.com%2Fauth%2Fpeopleapi.readonly&response_type=code\n",
            "\n",
            "Enter your authorization code:\n",
            "··········\n",
            "Mounted at /gdrive\n"
          ],
          "name": "stdout"
        }
      ]
    },
    {
      "cell_type": "markdown",
      "metadata": {
        "id": "RYwUwGf8qW1U",
        "colab_type": "text"
      },
      "source": [
        "## Step 2: Import modules"
      ]
    },
    {
      "cell_type": "code",
      "metadata": {
        "id": "3UtshANjqpy4",
        "colab_type": "code",
        "outputId": "4a90d336-5b66-48e6-e681-1de4c772159e",
        "colab": {
          "base_uri": "https://localhost:8080/",
          "height": 51
        }
      },
      "source": [
        "import os\n",
        "\n",
        "import torch\n",
        "import torch.optim as optim\n",
        "import torch.nn as nn\n",
        "import torch.nn.functional as F\n",
        "from torch.utils.data import DataLoader\n",
        "import torchvision\n",
        "from torchvision import transforms\n",
        "\n",
        "!pip install -U tensorboardcolab\n",
        "from tensorboardcolab import TensorBoardColab\n",
        "\n",
        "torch.manual_seed(470)\n",
        "torch.cuda.manual_seed(470)"
      ],
      "execution_count": 2,
      "outputs": [
        {
          "output_type": "stream",
          "text": [
            "Requirement already up-to-date: tensorboardcolab in /usr/local/lib/python3.6/dist-packages (0.0.22)\n"
          ],
          "name": "stdout"
        },
        {
          "output_type": "stream",
          "text": [
            "Using TensorFlow backend.\n"
          ],
          "name": "stderr"
        }
      ]
    },
    {
      "cell_type": "markdown",
      "metadata": {
        "id": "0iJ-Q6sbq8c3",
        "colab_type": "text"
      },
      "source": [
        "## Step 3: Configure the experiments"
      ]
    },
    {
      "cell_type": "code",
      "metadata": {
        "id": "fA5jAy7Wq-E2",
        "colab_type": "code",
        "outputId": "4c081108-b699-436f-aacb-37aa80c2ba76",
        "colab": {
          "base_uri": "https://localhost:8080/",
          "height": 68
        }
      },
      "source": [
        "# training & optimization hyper-parameters\n",
        "max_epoch = 40\n",
        "learning_rate = 0.001\n",
        "batch_size = 32\n",
        "device = 'cuda'\n",
        "\n",
        "# model hyper-parameters\n",
        "output_dim = 10 \n",
        "\n",
        "# Boolean value to select training process\n",
        "training_process = True\n",
        "\n",
        "# initialize tensorboard for visualization\n",
        "# Note : click the Tensorboard link to see the visualization of training/testing results\n",
        "tbc = TensorBoardColab()"
      ],
      "execution_count": 50,
      "outputs": [
        {
          "output_type": "stream",
          "text": [
            "Wait for 8 seconds...\n",
            "TensorBoard link:\n",
            "https://1b1df546.ngrok.io\n"
          ],
          "name": "stdout"
        }
      ]
    },
    {
      "cell_type": "markdown",
      "metadata": {
        "id": "2tZt60aMrQ1g",
        "colab_type": "text"
      },
      "source": [
        "## Step 4: Construct data pipeline\n",
        "\n",
        "**`torchvision.datasets.CIFAR10`** will automatically construct **`Cifar10`** dataset."
      ]
    },
    {
      "cell_type": "code",
      "metadata": {
        "id": "aHbtV46LrXOF",
        "colab_type": "code",
        "outputId": "68d2e6de-ef2e-4642-be8c-3ca4a0ea2d6b",
        "colab": {
          "base_uri": "https://localhost:8080/",
          "height": 51
        }
      },
      "source": [
        "data_dir = os.path.join(gdrive_root, 'my_data')\n",
        "\n",
        "transform = transforms.Compose(\n",
        "    [transforms.ToTensor(),\n",
        "     transforms.Normalize((0.5, 0.5, 0.5), (0.5, 0.5, 0.5))])\n",
        "\n",
        "train_dataset = torchvision.datasets.CIFAR10(root=data_dir, train=True, download=True, transform=transform)\n",
        "train_dataloader = torch.utils.data.DataLoader(train_dataset, batch_size=batch_size, shuffle=True, num_workers=2)\n",
        "\n",
        "test_dataset = torchvision.datasets.CIFAR10(root=data_dir, train=False, download=True, transform=transform)\n",
        "test_dataloader = torch.utils.data.DataLoader(test_dataset, batch_size=batch_size, shuffle=False, num_workers=2)\n",
        "\n",
        "classes = ('plane', 'car', 'bird', 'cat', 'deer', 'dog', 'frog', 'horse', 'ship', 'truck')"
      ],
      "execution_count": 51,
      "outputs": [
        {
          "output_type": "stream",
          "text": [
            "Files already downloaded and verified\n",
            "Files already downloaded and verified\n"
          ],
          "name": "stdout"
        }
      ]
    },
    {
      "cell_type": "markdown",
      "metadata": {
        "id": "6G_dWd-6rwWb",
        "colab_type": "text"
      },
      "source": [
        "## Step 5: Construct a neural network builder\n",
        "\n",
        "We serve the baseline CNN model which is supported on Pytorch tutorial: https://colab.research.google.com/github/pytorch/tutorials/blob/gh-pages/_downloads/cifar10_tutorial.ipynb#scrollTo=c1E1b7-igUcR\n",
        "\n",
        "### (You have to compare your own CNN model's test accuracy with the baseline CNN model and explain why your own model's test accuracy is higher than the basline.)"
      ]
    },
    {
      "cell_type": "code",
      "metadata": {
        "id": "FX_wne0Vr1E5",
        "colab_type": "code",
        "colab": {}
      },
      "source": [
        "class MyClassifier(nn.Module):\n",
        "  def __init__(self):\n",
        "      super(MyClassifier, self).__init__()\n",
        "      self.conv1 = nn.Conv2d(3, 64, kernel_size=3, stride=1, padding=1, bias=False)\n",
        "      self.bn1 = nn.BatchNorm2d(64)\n",
        "\n",
        "      #layer1 \n",
        "      self.conv1_1 = nn.Conv2d(64, 64, kernel_size=(3, 3), padding=(1,1), bias=False)\n",
        "      self.bn1_1 = nn.BatchNorm2d(64)\n",
        "      self.conv1_2 = nn.Conv2d(64, 64, kernel_size=(3, 3), padding=(1,1), bias=False)\n",
        "      self.bn1_2 = nn.BatchNorm2d(64)\n",
        "\n",
        "      self.conv1_3 = nn.Conv2d(64, 64, kernel_size=(3, 3), padding=(1,1), bias=False)\n",
        "      self.bn1_3 = nn.BatchNorm2d(64)\n",
        "      self.conv1_4 = nn.Conv2d(64, 64, kernel_size=(3, 3), padding=(1,1), bias=False)\n",
        "      self.bn1_4 = nn.BatchNorm2d(64)\n",
        "\n",
        "      #layer2\n",
        "      self.conv2_1 = nn.Conv2d(64, 128, kernel_size=(3, 3), stride=(2,2), padding=(1,1), bias=False)\n",
        "      self.bn2_1 = nn.BatchNorm2d(128)\n",
        "      self.conv2_2 = nn.Conv2d(128, 128, kernel_size=(3, 3), padding=(1,1), bias = False)\n",
        "      self.bn2_2 = nn.BatchNorm2d(128)\n",
        "      self.conv_bottle2_1 = nn.Conv2d(64, 128, kernel_size=(1,1), stride=(2,2), bias=False)\n",
        "      self.bn_bottle2_1 = nn.BatchNorm2d(128)\n",
        "\n",
        "      self.conv2_3 = nn.Conv2d(128, 128, kernel_size=(3, 3), padding=(1,1), bias=False)\n",
        "      self.bn2_3 = nn.BatchNorm2d(128)\n",
        "      self.conv2_4 = nn.Conv2d(128, 128, kernel_size=(3, 3), padding=(1,1), bias=False)\n",
        "      self.bn2_4 = nn.BatchNorm2d(128)\n",
        "\n",
        "      #layer3\n",
        "      self.conv3_1 = nn.Conv2d(128, 256, kernel_size=(3, 3), stride=(2,2), padding=(1,1), bias=False)\n",
        "      self.bn3_1 = nn.BatchNorm2d(256)\n",
        "      self.conv3_2 = nn.Conv2d(256, 256, kernel_size=(3, 3), padding=(1,1), bias = False)\n",
        "      self.bn3_2 = nn.BatchNorm2d(256)\n",
        "      self.conv_bottle3_1 = nn.Conv2d(128, 256, kernel_size=(1,1), stride=(2,2), bias=False)\n",
        "      self.bn_bottle3_1 = nn.BatchNorm2d(256)\n",
        "\n",
        "      self.conv3_3 = nn.Conv2d(256, 256, kernel_size=(3, 3), padding=(1,1), bias=False)\n",
        "      self.bn3_3 = nn.BatchNorm2d(256)\n",
        "      self.conv3_4 = nn.Conv2d(256, 256, kernel_size=(3, 3), padding=(1,1), bias=False)\n",
        "      self.bn3_4 = nn.BatchNorm2d(256)\n",
        "      #layer4\n",
        "      self.conv4_1 = nn.Conv2d(256, 512, kernel_size=(3, 3), stride=(2,2), padding=(1,1), bias=False)\n",
        "      self.bn4_1 = nn.BatchNorm2d(512)\n",
        "      self.conv4_2 = nn.Conv2d(512, 512, kernel_size=(3, 3), padding=(1,1), bias = False)\n",
        "      self.bn4_2 = nn.BatchNorm2d(512)\n",
        "      self.conv_bottle4_1 = nn.Conv2d(256, 512, kernel_size=(1,1), stride=(2,2), bias=False)\n",
        "      self.bn_bottle4_1 = nn.BatchNorm2d(512)\n",
        "\n",
        "      self.conv4_3 = nn.Conv2d(512, 512, kernel_size=(3, 3), padding=(1,1), bias=False)\n",
        "      self.bn4_3 = nn.BatchNorm2d(512)\n",
        "      self.conv4_4 = nn.Conv2d(512, 512, kernel_size=(3, 3), padding=(1,1), bias=False)\n",
        "      self.bn4_4 = nn.BatchNorm2d(512)\n",
        "      self.dropout = nn.Dropout()\n",
        "\n",
        "\n",
        "      self.linear = nn.Linear(512, 10)\n",
        "\n",
        "\n",
        "  def forward(self, x):\n",
        "      x = F.relu(self.bn1(self.conv1(x)))\n",
        "\n",
        "      #layer1\n",
        "      bottle = x\n",
        "      x = F.relu(self.bn1_1(self.conv1_1(x)))\n",
        "      x = self.bn1_2(self.conv1_2(x))\n",
        "      x += bottle \n",
        "      x = F.relu(x)\n",
        "\n",
        "      bottle = x\n",
        "      x = F.relu(self.bn1_3(self.conv1_3(x)))\n",
        "      x = self.bn1_4(self.conv1_4(x))\n",
        "      x += bottle \n",
        "      x = F.relu(x)\n",
        "\n",
        "      #layer 2\n",
        "      bottle = x\n",
        "      x = F.relu(self.bn2_1(self.conv2_1(x)))\n",
        "      x = self.bn2_2(self.conv2_2(x))\n",
        "      bottle = self.bn_bottle2_1 (self.conv_bottle2_1(bottle))\n",
        "      x += bottle \n",
        "      x = F.relu(x)\n",
        "\n",
        "      bottle = x\n",
        "      x = F.relu (self.bn2_3(self.conv2_3(x)))\n",
        "      x = self.bn2_4(self.conv2_3(x))\n",
        "      x += bottle \n",
        "      x = F.relu(x)\n",
        "\n",
        "      #layer 3\n",
        "      bottle = x\n",
        "      x = F.relu(self.bn3_1(self.conv3_1(x)))\n",
        "      x = self.bn3_2(self.conv3_2(x))\n",
        "      bottle = self.bn_bottle3_1 (self.conv_bottle3_1(bottle))\n",
        "      x += bottle \n",
        "      x = F.relu(x)\n",
        "\n",
        "      bottle = x\n",
        "      x = F.relu (self.bn3_3(self.conv3_3(x)))\n",
        "      x = self.bn3_4(self.conv3_3(x))\n",
        "      x += bottle \n",
        "      x = F.relu(x)\n",
        "      #layer 4\n",
        "      bottle = x\n",
        "      x = F.relu(self.bn4_1(self.conv4_1(x)))\n",
        "      x = self.bn4_2(self.conv4_2(x))\n",
        "      bottle = self.bn_bottle4_1 (self.conv_bottle4_1(bottle))\n",
        "      x += bottle \n",
        "      x = F.relu(x)\n",
        "\n",
        "      bottle = x\n",
        "      x = F.relu (self.bn4_3(self.conv4_3(x)))\n",
        "      x = self.bn4_4(self.conv4_3(x))\n",
        "      x += bottle \n",
        "      x = F.relu(x)\n",
        "\n",
        "      ##\n",
        "      x = F.avg_pool2d(x, 4)\n",
        "      # print(x.size())\n",
        "      x = x.view(x.size(0), -1)\n",
        "      # print(x.size())\n",
        "      x = self.dropout(x)\n",
        "      x = self.linear(x)\n",
        "      return x"
      ],
      "execution_count": 0,
      "outputs": []
    },
    {
      "cell_type": "markdown",
      "metadata": {
        "id": "YpA3xhjMspvA",
        "colab_type": "text"
      },
      "source": [
        "## Step 6: Initialize the network and optimizer\n",
        "\n",
        "If you want to train modularized neural network in Step 5B, please use 'MyClassifier2' as 'my_classifier'. It is written as a comment now."
      ]
    },
    {
      "cell_type": "code",
      "metadata": {
        "id": "XP111gW0s8aH",
        "colab_type": "code",
        "outputId": "0554b75e-3b04-46bd-d2ac-cc8a65a4e9be",
        "colab": {
          "base_uri": "https://localhost:8080/",
          "height": 799
        }
      },
      "source": [
        "my_classifier = MyClassifier()\n",
        "my_classifier = my_classifier.to(device)\n",
        "\n",
        "# apply xavier initializer\n",
        "def init_weights(m):\n",
        "  if type(m) == nn.Linear or type(m) == nn.Conv2d:\n",
        "    torch.nn.init.xavier_uniform(m.weight)\n",
        "\n",
        "my_classifier.apply(init_weights)\n",
        "\n",
        "# Print your neural network structure\n",
        "print(my_classifier)\n",
        "\n",
        "optimizer = optim.Adam(my_classifier.parameters(), lr=learning_rate)\n"
      ],
      "execution_count": 84,
      "outputs": [
        {
          "output_type": "stream",
          "text": [
            "MyClassifier(\n",
            "  (conv1): Conv2d(3, 64, kernel_size=(3, 3), stride=(1, 1), padding=(1, 1), bias=False)\n",
            "  (bn1): BatchNorm2d(64, eps=1e-05, momentum=0.1, affine=True, track_running_stats=True)\n",
            "  (conv1_1): Conv2d(64, 64, kernel_size=(3, 3), stride=(1, 1), padding=(1, 1), bias=False)\n",
            "  (bn1_1): BatchNorm2d(64, eps=1e-05, momentum=0.1, affine=True, track_running_stats=True)\n",
            "  (conv1_2): Conv2d(64, 64, kernel_size=(3, 3), stride=(1, 1), padding=(1, 1), bias=False)\n",
            "  (bn1_2): BatchNorm2d(64, eps=1e-05, momentum=0.1, affine=True, track_running_stats=True)\n",
            "  (conv1_3): Conv2d(64, 64, kernel_size=(3, 3), stride=(1, 1), padding=(1, 1), bias=False)\n",
            "  (bn1_3): BatchNorm2d(64, eps=1e-05, momentum=0.1, affine=True, track_running_stats=True)\n",
            "  (conv1_4): Conv2d(64, 64, kernel_size=(3, 3), stride=(1, 1), padding=(1, 1), bias=False)\n",
            "  (bn1_4): BatchNorm2d(64, eps=1e-05, momentum=0.1, affine=True, track_running_stats=True)\n",
            "  (conv2_1): Conv2d(64, 128, kernel_size=(3, 3), stride=(2, 2), padding=(1, 1), bias=False)\n",
            "  (bn2_1): BatchNorm2d(128, eps=1e-05, momentum=0.1, affine=True, track_running_stats=True)\n",
            "  (conv2_2): Conv2d(128, 128, kernel_size=(3, 3), stride=(1, 1), padding=(1, 1), bias=False)\n",
            "  (bn2_2): BatchNorm2d(128, eps=1e-05, momentum=0.1, affine=True, track_running_stats=True)\n",
            "  (conv_bottle2_1): Conv2d(64, 128, kernel_size=(1, 1), stride=(2, 2), bias=False)\n",
            "  (bn_bottle2_1): BatchNorm2d(128, eps=1e-05, momentum=0.1, affine=True, track_running_stats=True)\n",
            "  (conv2_3): Conv2d(128, 128, kernel_size=(3, 3), stride=(1, 1), padding=(1, 1), bias=False)\n",
            "  (bn2_3): BatchNorm2d(128, eps=1e-05, momentum=0.1, affine=True, track_running_stats=True)\n",
            "  (conv2_4): Conv2d(128, 128, kernel_size=(3, 3), stride=(1, 1), padding=(1, 1), bias=False)\n",
            "  (bn2_4): BatchNorm2d(128, eps=1e-05, momentum=0.1, affine=True, track_running_stats=True)\n",
            "  (conv3_1): Conv2d(128, 256, kernel_size=(3, 3), stride=(2, 2), padding=(1, 1), bias=False)\n",
            "  (bn3_1): BatchNorm2d(256, eps=1e-05, momentum=0.1, affine=True, track_running_stats=True)\n",
            "  (conv3_2): Conv2d(256, 256, kernel_size=(3, 3), stride=(1, 1), padding=(1, 1), bias=False)\n",
            "  (bn3_2): BatchNorm2d(256, eps=1e-05, momentum=0.1, affine=True, track_running_stats=True)\n",
            "  (conv_bottle3_1): Conv2d(128, 256, kernel_size=(1, 1), stride=(2, 2), bias=False)\n",
            "  (bn_bottle3_1): BatchNorm2d(256, eps=1e-05, momentum=0.1, affine=True, track_running_stats=True)\n",
            "  (conv3_3): Conv2d(256, 256, kernel_size=(3, 3), stride=(1, 1), padding=(1, 1), bias=False)\n",
            "  (bn3_3): BatchNorm2d(256, eps=1e-05, momentum=0.1, affine=True, track_running_stats=True)\n",
            "  (conv3_4): Conv2d(256, 256, kernel_size=(3, 3), stride=(1, 1), padding=(1, 1), bias=False)\n",
            "  (bn3_4): BatchNorm2d(256, eps=1e-05, momentum=0.1, affine=True, track_running_stats=True)\n",
            "  (conv4_1): Conv2d(256, 512, kernel_size=(3, 3), stride=(2, 2), padding=(1, 1), bias=False)\n",
            "  (bn4_1): BatchNorm2d(512, eps=1e-05, momentum=0.1, affine=True, track_running_stats=True)\n",
            "  (conv4_2): Conv2d(512, 512, kernel_size=(3, 3), stride=(1, 1), padding=(1, 1), bias=False)\n",
            "  (bn4_2): BatchNorm2d(512, eps=1e-05, momentum=0.1, affine=True, track_running_stats=True)\n",
            "  (conv_bottle4_1): Conv2d(256, 512, kernel_size=(1, 1), stride=(2, 2), bias=False)\n",
            "  (bn_bottle4_1): BatchNorm2d(512, eps=1e-05, momentum=0.1, affine=True, track_running_stats=True)\n",
            "  (conv4_3): Conv2d(512, 512, kernel_size=(3, 3), stride=(1, 1), padding=(1, 1), bias=False)\n",
            "  (bn4_3): BatchNorm2d(512, eps=1e-05, momentum=0.1, affine=True, track_running_stats=True)\n",
            "  (conv4_4): Conv2d(512, 512, kernel_size=(3, 3), stride=(1, 1), padding=(1, 1), bias=False)\n",
            "  (bn4_4): BatchNorm2d(512, eps=1e-05, momentum=0.1, affine=True, track_running_stats=True)\n",
            "  (dropout): Dropout(p=0.5)\n",
            "  (linear): Linear(in_features=512, out_features=10, bias=True)\n",
            ")\n"
          ],
          "name": "stdout"
        },
        {
          "output_type": "stream",
          "text": [
            "/usr/local/lib/python3.6/dist-packages/ipykernel_launcher.py:7: UserWarning: nn.init.xavier_uniform is now deprecated in favor of nn.init.xavier_uniform_.\n",
            "  import sys\n"
          ],
          "name": "stderr"
        }
      ]
    },
    {
      "cell_type": "markdown",
      "metadata": {
        "id": "8lAQeXmjsILS",
        "colab_type": "text"
      },
      "source": [
        "## Step 7: Load pre-trained weights if exist\n",
        "\n",
        "- **For your sumbmission you have to store the trained model as a checkpoint.**\n",
        "- Please do not erase this step.\n",
        "- If you want to modify this step, please be careful.\n",
        "- After training please confirm that your checkpoint is correctly stored and re-loaded."
      ]
    },
    {
      "cell_type": "code",
      "metadata": {
        "id": "hFLNZxaBsHUl",
        "colab_type": "code",
        "colab": {
          "base_uri": "https://localhost:8080/",
          "height": 51
        },
        "outputId": "04ab6b5d-4bcb-42ff-deba-a3b771e48569"
      },
      "source": [
        "ckpt_dir = os.path.join(gdrive_root, 'checkpoints')\n",
        "if not os.path.exists(ckpt_dir):\n",
        "  os.makedirs(ckpt_dir)\n",
        "  \n",
        "best_acc = 0.\n",
        "ckpt_path = os.path.join(ckpt_dir, 'ResNet.pt')\n",
        "if os.path.exists(ckpt_path):\n",
        "  ckpt = torch.load(ckpt_path)\n",
        "  try:\n",
        "    my_classifier.load_state_dict(ckpt['my_classifier'])\n",
        "    optimizer.load_state_dict(ckpt['optimizer'])\n",
        "    best_acc = ckpt['best_acc']\n",
        "  except RuntimeError as e:\n",
        "      print('wrong checkpoint')\n",
        "  else:    \n",
        "    print('checkpoint is loaded !')\n",
        "    print('current best accuracy : %.2f' % best_acc)"
      ],
      "execution_count": 85,
      "outputs": [
        {
          "output_type": "stream",
          "text": [
            "checkpoint is loaded !\n",
            "current best accuracy : 0.85\n"
          ],
          "name": "stdout"
        }
      ]
    },
    {
      "cell_type": "markdown",
      "metadata": {
        "id": "Z1t7n6yttNEc",
        "colab_type": "text"
      },
      "source": [
        "## Step 8: Train the network\n",
        "\n",
        "Note : It would be better to save checkpoints periodically, otherwise you'll lose everything you've trained if the session is recycled."
      ]
    },
    {
      "cell_type": "code",
      "metadata": {
        "id": "9vczdKbytV38",
        "colab_type": "code",
        "outputId": "25ccbde9-80d9-42b7-dbc4-6abbecc94206",
        "colab": {
          "base_uri": "https://localhost:8080/",
          "height": 1000
        }
      },
      "source": [
        "training_process = True\n",
        "if training_process:\n",
        "  it = 0\n",
        "  train_losses = []\n",
        "  test_losses = []\n",
        "  for epoch in range(max_epoch):\n",
        "    # train phase\n",
        "    my_classifier.train()\n",
        "    for inputs, labels in train_dataloader:\n",
        "      it += 1\n",
        "\n",
        "      # load data to the GPU.\n",
        "      inputs = inputs.to(device)\n",
        "      labels = labels.to(device)\n",
        "\n",
        "      # feed data into the network and get outputs.\n",
        "      logits = my_classifier(inputs)\n",
        "\n",
        "      # calculate loss\n",
        "      # Note: `F.cross_entropy` function receives logits, or pre-softmax outputs, rather than final probability scores.\n",
        "      loss = F.cross_entropy(logits, labels)\n",
        "\n",
        "      # Note: You should flush out gradients computed at the previous step before computing gradients at the current step. \n",
        "      #       Otherwise, gradients will accumulate.\n",
        "      optimizer.zero_grad()\n",
        "\n",
        "      # backprogate loss.\n",
        "      loss.backward()\n",
        "\n",
        "      # update the weights in the network.\n",
        "      optimizer.step()\n",
        "\n",
        "      # calculate accuracy.\n",
        "      acc = (logits.argmax(dim=1) == labels).float().mean()\n",
        "\n",
        "      if it % 2000 == 0:\n",
        "        tbc.save_value('Loss', 'train_loss', it, loss.item())\n",
        "        print('[epoch:{}, iteration:{}] train loss : {:.4f} train accuracy : {:.4f}'.format(epoch, it, loss.item(), acc.item()))\n",
        "\n",
        "    # save losses in a list so that we can visualize them later.\n",
        "    train_losses.append(loss)  \n",
        "\n",
        "    # test phase\n",
        "    n = 0.\n",
        "    test_loss = 0.\n",
        "    test_acc = 0.\n",
        "    my_classifier.eval()\n",
        "    for test_inputs, test_labels in test_dataloader:\n",
        "      test_inputs = test_inputs.to(device)\n",
        "      test_labels = test_labels.to(device)\n",
        "\n",
        "      logits = my_classifier(test_inputs)\n",
        "      test_loss += F.cross_entropy(logits, test_labels, reduction='sum').item()\n",
        "      test_acc += (logits.argmax(dim=1) == test_labels).float().sum().item()\n",
        "      n += test_inputs.size(0)\n",
        "\n",
        "    test_loss /= n\n",
        "    test_acc /= n\n",
        "    test_losses.append(test_loss)\n",
        "    tbc.save_value('Loss', 'test_loss', it, test_loss)\n",
        "    print('[epoch:{}, iteration:{}] test_loss : {:.4f} test accuracy : {:.4f}'.format(epoch, it, test_loss, test_acc)) \n",
        "\n",
        "    tbc.flush_line('train_loss')\n",
        "    tbc.flush_line('test_loss')\n",
        "\n",
        "    # save checkpoint whenever there is improvement in performance\n",
        "    if test_acc > best_acc:\n",
        "      best_acc = test_acc\n",
        "      # Note: optimizer also has states ! don't forget to save them as well.\n",
        "      ckpt = {'my_classifier':my_classifier.state_dict(),\n",
        "              'optimizer':optimizer.state_dict(),\n",
        "              'best_acc':best_acc}\n",
        "      torch.save(ckpt, ckpt_path)\n",
        "      print('checkpoint is saved !')\n",
        "    \n",
        "tbc.close()"
      ],
      "execution_count": 86,
      "outputs": [
        {
          "output_type": "stream",
          "text": [
            "[epoch:0, iteration:1563] test_loss : 0.5753 test accuracy : 0.8371\n",
            "[epoch:1, iteration:2000] train loss : 0.0252 train accuracy : 1.0000\n",
            "[epoch:1, iteration:3126] test_loss : 0.5936 test accuracy : 0.8355\n",
            "[epoch:2, iteration:4000] train loss : 0.2059 train accuracy : 0.9062\n",
            "[epoch:2, iteration:4689] test_loss : 0.6574 test accuracy : 0.8363\n",
            "[epoch:3, iteration:6000] train loss : 0.0788 train accuracy : 0.9688\n",
            "[epoch:3, iteration:6252] test_loss : 0.6650 test accuracy : 0.8312\n",
            "[epoch:4, iteration:7815] test_loss : 0.6826 test accuracy : 0.8360\n",
            "[epoch:5, iteration:8000] train loss : 0.0625 train accuracy : 0.9688\n",
            "[epoch:5, iteration:9378] test_loss : 0.6680 test accuracy : 0.8415\n",
            "[epoch:6, iteration:10000] train loss : 0.1332 train accuracy : 0.9375\n",
            "[epoch:6, iteration:10941] test_loss : 0.7439 test accuracy : 0.8365\n",
            "[epoch:7, iteration:12000] train loss : 0.0025 train accuracy : 1.0000\n",
            "[epoch:7, iteration:12504] test_loss : 0.6957 test accuracy : 0.8440\n",
            "[epoch:8, iteration:14000] train loss : 0.0233 train accuracy : 1.0000\n",
            "[epoch:8, iteration:14067] test_loss : 0.7305 test accuracy : 0.8425\n",
            "[epoch:9, iteration:15630] test_loss : 0.7822 test accuracy : 0.8338\n",
            "[epoch:10, iteration:16000] train loss : 0.0051 train accuracy : 1.0000\n",
            "[epoch:10, iteration:17193] test_loss : 0.7690 test accuracy : 0.8380\n",
            "[epoch:11, iteration:18000] train loss : 0.0007 train accuracy : 1.0000\n",
            "[epoch:11, iteration:18756] test_loss : 0.7520 test accuracy : 0.8426\n",
            "[epoch:12, iteration:20000] train loss : 0.0104 train accuracy : 1.0000\n",
            "[epoch:12, iteration:20319] test_loss : 0.7717 test accuracy : 0.8430\n",
            "[epoch:13, iteration:21882] test_loss : 0.8142 test accuracy : 0.8413\n",
            "[epoch:14, iteration:22000] train loss : 0.0680 train accuracy : 0.9688\n",
            "[epoch:14, iteration:23445] test_loss : 0.7334 test accuracy : 0.8428\n",
            "[epoch:15, iteration:24000] train loss : 0.0615 train accuracy : 0.9688\n",
            "[epoch:15, iteration:25008] test_loss : 0.7383 test accuracy : 0.8456\n",
            "[epoch:16, iteration:26000] train loss : 0.0053 train accuracy : 1.0000\n",
            "[epoch:16, iteration:26571] test_loss : 0.7401 test accuracy : 0.8537\n",
            "checkpoint is saved !\n",
            "[epoch:17, iteration:28000] train loss : 0.0043 train accuracy : 1.0000\n",
            "[epoch:17, iteration:28134] test_loss : 0.7819 test accuracy : 0.8455\n",
            "[epoch:18, iteration:29697] test_loss : 0.8037 test accuracy : 0.8471\n",
            "[epoch:19, iteration:30000] train loss : 0.0005 train accuracy : 1.0000\n",
            "[epoch:19, iteration:31260] test_loss : 0.7939 test accuracy : 0.8489\n",
            "[epoch:20, iteration:32000] train loss : 0.0307 train accuracy : 1.0000\n",
            "[epoch:20, iteration:32823] test_loss : 0.8083 test accuracy : 0.8481\n",
            "[epoch:21, iteration:34000] train loss : 0.0023 train accuracy : 1.0000\n",
            "[epoch:21, iteration:34386] test_loss : 0.8580 test accuracy : 0.8414\n",
            "[epoch:22, iteration:35949] test_loss : 0.8534 test accuracy : 0.8480\n",
            "[epoch:23, iteration:36000] train loss : 0.0197 train accuracy : 1.0000\n",
            "[epoch:23, iteration:37512] test_loss : 0.8753 test accuracy : 0.8446\n",
            "[epoch:24, iteration:38000] train loss : 0.0610 train accuracy : 0.9688\n",
            "[epoch:24, iteration:39075] test_loss : 0.8649 test accuracy : 0.8445\n",
            "[epoch:25, iteration:40000] train loss : 0.0007 train accuracy : 1.0000\n",
            "[epoch:25, iteration:40638] test_loss : 0.9007 test accuracy : 0.8415\n",
            "[epoch:26, iteration:42000] train loss : 0.0183 train accuracy : 1.0000\n",
            "[epoch:26, iteration:42201] test_loss : 0.9007 test accuracy : 0.8473\n",
            "[epoch:27, iteration:43764] test_loss : 0.8664 test accuracy : 0.8477\n",
            "[epoch:28, iteration:44000] train loss : 0.0073 train accuracy : 1.0000\n",
            "[epoch:28, iteration:45327] test_loss : 0.8687 test accuracy : 0.8454\n",
            "[epoch:29, iteration:46000] train loss : 0.0381 train accuracy : 0.9688\n",
            "[epoch:29, iteration:46890] test_loss : 0.8703 test accuracy : 0.8449\n",
            "[epoch:30, iteration:48000] train loss : 0.0007 train accuracy : 1.0000\n",
            "[epoch:30, iteration:48453] test_loss : 0.7783 test accuracy : 0.8535\n",
            "[epoch:31, iteration:50000] train loss : 0.0037 train accuracy : 1.0000\n",
            "[epoch:31, iteration:50016] test_loss : 0.9051 test accuracy : 0.8464\n",
            "[epoch:32, iteration:51579] test_loss : 0.8554 test accuracy : 0.8481\n",
            "[epoch:33, iteration:52000] train loss : 0.0006 train accuracy : 1.0000\n",
            "[epoch:33, iteration:53142] test_loss : 0.8800 test accuracy : 0.8474\n",
            "[epoch:34, iteration:54000] train loss : 0.0026 train accuracy : 1.0000\n",
            "[epoch:34, iteration:54705] test_loss : 0.8996 test accuracy : 0.8423\n",
            "[epoch:35, iteration:56000] train loss : 0.0042 train accuracy : 1.0000\n",
            "[epoch:35, iteration:56268] test_loss : 0.9638 test accuracy : 0.8402\n",
            "[epoch:36, iteration:57831] test_loss : 0.9769 test accuracy : 0.8470\n",
            "[epoch:37, iteration:58000] train loss : 0.0140 train accuracy : 1.0000\n",
            "[epoch:37, iteration:59394] test_loss : 0.8724 test accuracy : 0.8492\n",
            "[epoch:38, iteration:60000] train loss : 0.0001 train accuracy : 1.0000\n",
            "[epoch:38, iteration:60957] test_loss : 0.8571 test accuracy : 0.8522\n",
            "[epoch:39, iteration:62000] train loss : 0.0154 train accuracy : 1.0000\n",
            "[epoch:39, iteration:62520] test_loss : 0.9061 test accuracy : 0.8461\n"
          ],
          "name": "stdout"
        }
      ]
    },
    {
      "cell_type": "markdown",
      "metadata": {
        "id": "ECu3yS0OvfoR",
        "colab_type": "text"
      },
      "source": [
        "## Step 9: Visualize and analyze the results"
      ]
    },
    {
      "cell_type": "code",
      "metadata": {
        "id": "G89sqVp-vLRy",
        "colab_type": "code",
        "outputId": "76df9146-f0fe-488a-faab-9fb16dd0fa00",
        "colab": {
          "base_uri": "https://localhost:8080/",
          "height": 303
        }
      },
      "source": [
        "import matplotlib.pyplot as plt\n",
        "plt.plot(train_losses, label='train loss')\n",
        "plt.plot(test_losses, label='test loss')\n",
        "plt.legend()\n",
        "\n",
        "training_process = False\n",
        "\n",
        "if not training_process:\n",
        "  # Re-load trained model\n",
        "  my_classifier.load_state_dict(ckpt['my_classifier'])\n",
        "  optimizer.load_state_dict(ckpt['optimizer'])\n",
        "\n",
        "  # Testing\n",
        "  n = 0.\n",
        "  test_loss = 0.\n",
        "  test_acc = 0.\n",
        "  my_classifier.eval()\n",
        "  for test_inputs, test_labels in test_dataloader:\n",
        "    test_inputs = test_inputs.to(device)\n",
        "    test_labels = test_labels.to(device)\n",
        "\n",
        "    logits = my_classifier(test_inputs)\n",
        "    test_loss += F.cross_entropy(logits, test_labels, reduction='sum').item()\n",
        "    test_acc += (logits.argmax(dim=1) == test_labels).float().sum().item()\n",
        "    n += test_inputs.size(0)\n",
        "\n",
        "  test_loss /= n\n",
        "  test_acc /= n\n",
        "  print('Test_loss : {:.4f}, Test accuracy : {:.4f}'.format(test_loss, test_acc))"
      ],
      "execution_count": 87,
      "outputs": [
        {
          "output_type": "stream",
          "text": [
            "hello\n",
            "Test_loss : 0.9061, Test accuracy : 0.8461\n"
          ],
          "name": "stdout"
        },
        {
          "output_type": "display_data",
          "data": {
            "image/png": "[encoded data removed]",
            "text/plain": [
              "<Figure size 432x288 with 1 Axes>"
            ]
          },
          "metadata": {
            "tags": []
          }
        }
      ]
    },
    {
      "cell_type": "code",
      "metadata": {
        "id": "KHjD9SGrvhzc",
        "colab_type": "code",
        "outputId": "31dc532c-b77a-474d-c2fe-39ff9b71a00b",
        "colab": {
          "base_uri": "https://localhost:8080/",
          "height": 303
        }
      },
      "source": [
        "import random\n",
        "\n",
        "import matplotlib.pyplot as plt\n",
        "import numpy as np\n",
        "\n",
        "my_classifier.eval()\n",
        "\n",
        "num_test_samples = len(test_dataset)\n",
        "random_idx = random.randint(0, num_test_samples)\n",
        "\n",
        "test_input, test_label = test_dataset.__getitem__(random_idx)\n",
        "test_prediction = F.softmax(my_classifier(test_input.unsqueeze(0).to(device)), dim=1).argmax().item()\n",
        "print('label : %s' % classes[test_label])\n",
        "print('prediction : %s' % classes[test_prediction])\n",
        "\n",
        "# functions to show an image\n",
        "def imshow(img):\n",
        "    img = img / 2 + 0.5     # unnormalize\n",
        "    npimg = img.numpy()\n",
        "    plt.imshow(np.transpose(npimg, (1, 2, 0)))\n",
        "\n",
        "# show images\n",
        "imshow(torchvision.utils.make_grid(test_input))"
      ],
      "execution_count": 31,
      "outputs": [
        {
          "output_type": "stream",
          "text": [
            "label : dog\n",
            "prediction : bird\n"
          ],
          "name": "stdout"
        },
        {
          "output_type": "display_data",
          "data": {
            "image/png": "[encoded data removed]",
            "text/plain": [
              "<Figure size 432x288 with 1 Axes>"
            ]
          },
          "metadata": {
            "tags": []
          }
        }
      ]
    },
    {
      "cell_type": "markdown",
      "metadata": {
        "id": "BwcY8z_C2QLA",
        "colab_type": "text"
      },
      "source": [
        "# <font color=\"blue\"> Discussion and Analysis </font>"
      ]
    },
    {
      "cell_type": "markdown",
      "metadata": {
        "id": "v2W0ZtF82Xyb",
        "colab_type": "text"
      },
      "source": [
        "<font color=\"blue\"> Fill here with your discussion </font>\n",
        "- Model Tuning\n",
        "1. dropout\n",
        "\n",
        "  I add dropout layer before multilinear layers.\n",
        "\n",
        "2. batch normalization in every cnn layer\n",
        "\n",
        "  I add batch normalization in every cnn layer to normalize input batch. \n",
        "3. Xavier initializer\n",
        "\n",
        "  I use Xavier initializer to initialize my initial model.\n",
        "4. Batch Size\n",
        "   \n",
        "   I change batch size from 4 to 32. Big batch size increase learning speed and proper batch size help escaping local minima or saddle situation when DNN is learning.\n",
        "5. number of epoches.\n",
        "  I change number of epoches from 20 to 40. In my experiment, 20 is too small to learn. I watched test accuracy increase after 20 epoches.\n",
        "  \n",
        "  This is my experience about model tuning. Base model is 2 conv layer and one multi perseptron.\n",
        "  ![experiment result](https://drive.google.com/open?id=1oaIS8YNQY0dszNX54wJ7T1oR4ZcdDeXY)\n",
        "\n",
        "- Model Architecture\n",
        " \n",
        "  I implemented simple version of ResNet which is discussed in class. \n",
        "  \n",
        "  One of the most important problem of deep neural network is gradient vanishing, which makes decrease effect from loss to parameters. Gradient vanishing become worsen if neural network is deeper. The reason why gradient vanishing come out simple calculation of backpropagation.\n",
        "\n",
        "  When DNN back propagate, the weights are changed amount of some value, which is determined by multiplication of derivative form of layers. Each multiplication, derivative of activation form is calculated. However, the calculated value decrease since pre-calculated values are usually less than 1. Therefore backside of DNN weights change little bit compared to frontside.\n",
        "  \n",
        "  My model, ResNet, solve this problem efficiently considering bottle. The model save previous value, bottle, before forward, and after some steps, add bottle and present state of step value. Hence, the model help avoiding gradient vanishing, connecting information between backside and frondside.\n",
        "  \n",
        "- Result\n",
        "\n",
        "  Test_loss : 0.9061, Test accuracy : 0.8461\n",
        "  This graph start from 8 epoches to 48 epoches.\n",
        "  ![model result](https://https://drive.google.com/open?id=19HMSv6mxYmcPxbMa6dGIYgLgUf6_rGzv)"
      ]
    }
  ]
}